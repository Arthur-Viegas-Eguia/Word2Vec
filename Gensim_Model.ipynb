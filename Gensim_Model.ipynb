{
  "nbformat": 4,
  "nbformat_minor": 0,
  "metadata": {
    "colab": {
      "provenance": []
    },
    "kernelspec": {
      "name": "python3",
      "display_name": "Python 3"
    },
    "language_info": {
      "name": "python"
    }
  },
  "cells": [
    {
      "cell_type": "code",
      "execution_count": 18,
      "metadata": {
        "id": "EobJl_g6b5Qj"
      },
      "outputs": [],
      "source": [
        "import gensim\n",
        "import pandas as pd\n",
        "import numpy as np"
      ]
    },
    {
      "cell_type": "code",
      "source": [
        "import multiprocessing\n",
        "\n",
        "cores = multiprocessing.cpu_count()\n",
        "print(cores)"
      ],
      "metadata": {
        "colab": {
          "base_uri": "https://localhost:8080/"
        },
        "id": "FKlUPjnp6uKf",
        "outputId": "93988d0a-cbe1-4fa5-8d0a-8e099bf87a57"
      },
      "execution_count": 28,
      "outputs": [
        {
          "output_type": "stream",
          "name": "stdout",
          "text": [
            "2\n"
          ]
        }
      ]
    },
    {
      "cell_type": "code",
      "source": [
        "df = pd.Series(open(\"/content/output_movies.csv\", \"r\").readlines())\n",
        "print(df.shape)\n",
        "vocab_tokens = df.apply(gensim.utils.simple_preprocess)\n",
        "model = gensim.models.Word2Vec(window = 10, min_count = 1, workers = 2)\n",
        "model.build_vocab(vocab_tokens, progress_per = 1000)\n",
        "model.train(vocab_tokens, total_examples=model.corpus_count, epochs = model.epochs)\n"
      ],
      "metadata": {
        "colab": {
          "base_uri": "https://localhost:8080/"
        },
        "id": "fnvF3evJc-vb",
        "outputId": "e9892ea6-c6b4-4617-a95d-d8c910398f57"
      },
      "execution_count": 43,
      "outputs": [
        {
          "output_type": "stream",
          "name": "stdout",
          "text": [
            "(50000,)\n"
          ]
        },
        {
          "output_type": "execute_result",
          "data": {
            "text/plain": [
              "(15182867, 16183075)"
            ]
          },
          "metadata": {},
          "execution_count": 43
        }
      ]
    },
    {
      "cell_type": "code",
      "source": [
        "model.save(\"model_gensim_discord.txt\")"
      ],
      "metadata": {
        "id": "xEIDsCrcAXX_"
      },
      "execution_count": 44,
      "outputs": []
    },
    {
      "cell_type": "code",
      "source": [
        "model.wv.most_similar(\"awesome\")"
      ],
      "metadata": {
        "colab": {
          "base_uri": "https://localhost:8080/"
        },
        "id": "DwfXGSwXAkaE",
        "outputId": "99a52270-7140-4aff-a8a6-302bb734e8eb"
      },
      "execution_count": 50,
      "outputs": [
        {
          "output_type": "execute_result",
          "data": {
            "text/plain": [
              "[('fantastic', 0.7149648070335388),\n",
              " ('cool', 0.7058181166648865),\n",
              " ('amazing', 0.6923643350601196),\n",
              " ('shined', 0.6913738250732422),\n",
              " ('great', 0.6474271416664124),\n",
              " ('madonna', 0.6420940160751343),\n",
              " ('classico', 0.6404037475585938),\n",
              " ('plus', 0.634606659412384),\n",
              " ('terrific', 0.6203534007072449),\n",
              " ('hillarious', 0.6161377429962158)]"
            ]
          },
          "metadata": {},
          "execution_count": 50
        }
      ]
    }
  ]
}